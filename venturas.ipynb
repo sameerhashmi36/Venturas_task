{
  "nbformat": 4,
  "nbformat_minor": 0,
  "metadata": {
    "colab": {
      "name": "venturas.ipynb",
      "provenance": [],
      "collapsed_sections": []
    },
    "kernelspec": {
      "name": "python3",
      "display_name": "Python 3"
    },
    "language_info": {
      "name": "python"
    }
  },
  "cells": [
    {
      "cell_type": "code",
      "execution_count": null,
      "metadata": {
        "colab": {
          "base_uri": "https://localhost:8080/"
        },
        "id": "YIEfyHxW1Cw3",
        "outputId": "6205789d-d088-4504-e0fc-61089ee9312f"
      },
      "outputs": [
        {
          "output_type": "stream",
          "name": "stdout",
          "text": [
            "Mounted at /content/drive/\n"
          ]
        }
      ],
      "source": [
        "from google.colab import drive\n",
        "drive.mount(\"/content/drive/\")"
      ]
    },
    {
      "cell_type": "code",
      "source": [
        "import pandas as pd"
      ],
      "metadata": {
        "id": "jSN4c4tS1j5r"
      },
      "execution_count": null,
      "outputs": []
    },
    {
      "cell_type": "code",
      "source": [
        "activity = pd.read_csv('/content/drive/MyDrive/Venturas_Ltd/activity.csv')"
      ],
      "metadata": {
        "id": "dpk7Cdd62R-t"
      },
      "execution_count": null,
      "outputs": []
    },
    {
      "cell_type": "code",
      "source": [
        "target = pd.read_csv('/content/drive/MyDrive/Venturas_Ltd/target.csv')"
      ],
      "metadata": {
        "id": "4zslojqI27RC"
      },
      "execution_count": null,
      "outputs": []
    },
    {
      "cell_type": "code",
      "source": [
        "activity.head()"
      ],
      "metadata": {
        "colab": {
          "base_uri": "https://localhost:8080/",
          "height": 206
        },
        "id": "rejiauYf3OCU",
        "outputId": "e712b833-ba9d-4d14-a41f-2763e72af97a"
      },
      "execution_count": null,
      "outputs": [
        {
          "output_type": "execute_result",
          "data": {
            "text/plain": [
              "         date            customer activity_type  activity_count\n",
              "0  2021-01-20  0032j000002jRYxAAM             a               1\n",
              "1  2021-05-11  0032j00000FZcIvAAL             a               1\n",
              "2  2020-12-09  0032j000002gKM8AAM             a               1\n",
              "3  2021-03-30  0032j000001UX7cAAG             a               1\n",
              "4  2020-10-19  0032j000004etUWAAY             a               1"
            ],
            "text/html": [
              "\n",
              "  <div id=\"df-11ad8335-9fab-4c47-a849-8f3cd48f52c6\">\n",
              "    <div class=\"colab-df-container\">\n",
              "      <div>\n",
              "<style scoped>\n",
              "    .dataframe tbody tr th:only-of-type {\n",
              "        vertical-align: middle;\n",
              "    }\n",
              "\n",
              "    .dataframe tbody tr th {\n",
              "        vertical-align: top;\n",
              "    }\n",
              "\n",
              "    .dataframe thead th {\n",
              "        text-align: right;\n",
              "    }\n",
              "</style>\n",
              "<table border=\"1\" class=\"dataframe\">\n",
              "  <thead>\n",
              "    <tr style=\"text-align: right;\">\n",
              "      <th></th>\n",
              "      <th>date</th>\n",
              "      <th>customer</th>\n",
              "      <th>activity_type</th>\n",
              "      <th>activity_count</th>\n",
              "    </tr>\n",
              "  </thead>\n",
              "  <tbody>\n",
              "    <tr>\n",
              "      <th>0</th>\n",
              "      <td>2021-01-20</td>\n",
              "      <td>0032j000002jRYxAAM</td>\n",
              "      <td>a</td>\n",
              "      <td>1</td>\n",
              "    </tr>\n",
              "    <tr>\n",
              "      <th>1</th>\n",
              "      <td>2021-05-11</td>\n",
              "      <td>0032j00000FZcIvAAL</td>\n",
              "      <td>a</td>\n",
              "      <td>1</td>\n",
              "    </tr>\n",
              "    <tr>\n",
              "      <th>2</th>\n",
              "      <td>2020-12-09</td>\n",
              "      <td>0032j000002gKM8AAM</td>\n",
              "      <td>a</td>\n",
              "      <td>1</td>\n",
              "    </tr>\n",
              "    <tr>\n",
              "      <th>3</th>\n",
              "      <td>2021-03-30</td>\n",
              "      <td>0032j000001UX7cAAG</td>\n",
              "      <td>a</td>\n",
              "      <td>1</td>\n",
              "    </tr>\n",
              "    <tr>\n",
              "      <th>4</th>\n",
              "      <td>2020-10-19</td>\n",
              "      <td>0032j000004etUWAAY</td>\n",
              "      <td>a</td>\n",
              "      <td>1</td>\n",
              "    </tr>\n",
              "  </tbody>\n",
              "</table>\n",
              "</div>\n",
              "      <button class=\"colab-df-convert\" onclick=\"convertToInteractive('df-11ad8335-9fab-4c47-a849-8f3cd48f52c6')\"\n",
              "              title=\"Convert this dataframe to an interactive table.\"\n",
              "              style=\"display:none;\">\n",
              "        \n",
              "  <svg xmlns=\"http://www.w3.org/2000/svg\" height=\"24px\"viewBox=\"0 0 24 24\"\n",
              "       width=\"24px\">\n",
              "    <path d=\"M0 0h24v24H0V0z\" fill=\"none\"/>\n",
              "    <path d=\"M18.56 5.44l.94 2.06.94-2.06 2.06-.94-2.06-.94-.94-2.06-.94 2.06-2.06.94zm-11 1L8.5 8.5l.94-2.06 2.06-.94-2.06-.94L8.5 2.5l-.94 2.06-2.06.94zm10 10l.94 2.06.94-2.06 2.06-.94-2.06-.94-.94-2.06-.94 2.06-2.06.94z\"/><path d=\"M17.41 7.96l-1.37-1.37c-.4-.4-.92-.59-1.43-.59-.52 0-1.04.2-1.43.59L10.3 9.45l-7.72 7.72c-.78.78-.78 2.05 0 2.83L4 21.41c.39.39.9.59 1.41.59.51 0 1.02-.2 1.41-.59l7.78-7.78 2.81-2.81c.8-.78.8-2.07 0-2.86zM5.41 20L4 18.59l7.72-7.72 1.47 1.35L5.41 20z\"/>\n",
              "  </svg>\n",
              "      </button>\n",
              "      \n",
              "  <style>\n",
              "    .colab-df-container {\n",
              "      display:flex;\n",
              "      flex-wrap:wrap;\n",
              "      gap: 12px;\n",
              "    }\n",
              "\n",
              "    .colab-df-convert {\n",
              "      background-color: #E8F0FE;\n",
              "      border: none;\n",
              "      border-radius: 50%;\n",
              "      cursor: pointer;\n",
              "      display: none;\n",
              "      fill: #1967D2;\n",
              "      height: 32px;\n",
              "      padding: 0 0 0 0;\n",
              "      width: 32px;\n",
              "    }\n",
              "\n",
              "    .colab-df-convert:hover {\n",
              "      background-color: #E2EBFA;\n",
              "      box-shadow: 0px 1px 2px rgba(60, 64, 67, 0.3), 0px 1px 3px 1px rgba(60, 64, 67, 0.15);\n",
              "      fill: #174EA6;\n",
              "    }\n",
              "\n",
              "    [theme=dark] .colab-df-convert {\n",
              "      background-color: #3B4455;\n",
              "      fill: #D2E3FC;\n",
              "    }\n",
              "\n",
              "    [theme=dark] .colab-df-convert:hover {\n",
              "      background-color: #434B5C;\n",
              "      box-shadow: 0px 1px 3px 1px rgba(0, 0, 0, 0.15);\n",
              "      filter: drop-shadow(0px 1px 2px rgba(0, 0, 0, 0.3));\n",
              "      fill: #FFFFFF;\n",
              "    }\n",
              "  </style>\n",
              "\n",
              "      <script>\n",
              "        const buttonEl =\n",
              "          document.querySelector('#df-11ad8335-9fab-4c47-a849-8f3cd48f52c6 button.colab-df-convert');\n",
              "        buttonEl.style.display =\n",
              "          google.colab.kernel.accessAllowed ? 'block' : 'none';\n",
              "\n",
              "        async function convertToInteractive(key) {\n",
              "          const element = document.querySelector('#df-11ad8335-9fab-4c47-a849-8f3cd48f52c6');\n",
              "          const dataTable =\n",
              "            await google.colab.kernel.invokeFunction('convertToInteractive',\n",
              "                                                     [key], {});\n",
              "          if (!dataTable) return;\n",
              "\n",
              "          const docLinkHtml = 'Like what you see? Visit the ' +\n",
              "            '<a target=\"_blank\" href=https://colab.research.google.com/notebooks/data_table.ipynb>data table notebook</a>'\n",
              "            + ' to learn more about interactive tables.';\n",
              "          element.innerHTML = '';\n",
              "          dataTable['output_type'] = 'display_data';\n",
              "          await google.colab.output.renderOutput(dataTable, element);\n",
              "          const docLink = document.createElement('div');\n",
              "          docLink.innerHTML = docLinkHtml;\n",
              "          element.appendChild(docLink);\n",
              "        }\n",
              "      </script>\n",
              "    </div>\n",
              "  </div>\n",
              "  "
            ]
          },
          "metadata": {},
          "execution_count": 5
        }
      ]
    },
    {
      "cell_type": "code",
      "source": [
        "activity.size"
      ],
      "metadata": {
        "colab": {
          "base_uri": "https://localhost:8080/"
        },
        "id": "mUiIyHSY3WyA",
        "outputId": "069a9124-ea39-4d2a-94e3-349c4bddc0e2"
      },
      "execution_count": null,
      "outputs": [
        {
          "output_type": "execute_result",
          "data": {
            "text/plain": [
              "3619088"
            ]
          },
          "metadata": {},
          "execution_count": 6
        }
      ]
    },
    {
      "cell_type": "code",
      "source": [
        "target.head()"
      ],
      "metadata": {
        "id": "o0RVuRaO6NVB",
        "colab": {
          "base_uri": "https://localhost:8080/",
          "height": 206
        },
        "outputId": "c02efc78-8403-40d3-a0c8-2d5670d2bd06"
      },
      "execution_count": null,
      "outputs": [
        {
          "output_type": "execute_result",
          "data": {
            "text/plain": [
              "             customer        date\n",
              "0  0032j000001UaIdAAK  2020-11-06\n",
              "1  0032j000002hwpFAAQ  2021-05-20\n",
              "2  0032j0000077nwFAAQ  2020-12-18\n",
              "3  0032j000001UU6aAAG  2020-11-20\n",
              "4  0032j000001UFAIAA4  2021-02-18"
            ],
            "text/html": [
              "\n",
              "  <div id=\"df-76c2cac6-38a3-46db-940c-7d249af7864e\">\n",
              "    <div class=\"colab-df-container\">\n",
              "      <div>\n",
              "<style scoped>\n",
              "    .dataframe tbody tr th:only-of-type {\n",
              "        vertical-align: middle;\n",
              "    }\n",
              "\n",
              "    .dataframe tbody tr th {\n",
              "        vertical-align: top;\n",
              "    }\n",
              "\n",
              "    .dataframe thead th {\n",
              "        text-align: right;\n",
              "    }\n",
              "</style>\n",
              "<table border=\"1\" class=\"dataframe\">\n",
              "  <thead>\n",
              "    <tr style=\"text-align: right;\">\n",
              "      <th></th>\n",
              "      <th>customer</th>\n",
              "      <th>date</th>\n",
              "    </tr>\n",
              "  </thead>\n",
              "  <tbody>\n",
              "    <tr>\n",
              "      <th>0</th>\n",
              "      <td>0032j000001UaIdAAK</td>\n",
              "      <td>2020-11-06</td>\n",
              "    </tr>\n",
              "    <tr>\n",
              "      <th>1</th>\n",
              "      <td>0032j000002hwpFAAQ</td>\n",
              "      <td>2021-05-20</td>\n",
              "    </tr>\n",
              "    <tr>\n",
              "      <th>2</th>\n",
              "      <td>0032j0000077nwFAAQ</td>\n",
              "      <td>2020-12-18</td>\n",
              "    </tr>\n",
              "    <tr>\n",
              "      <th>3</th>\n",
              "      <td>0032j000001UU6aAAG</td>\n",
              "      <td>2020-11-20</td>\n",
              "    </tr>\n",
              "    <tr>\n",
              "      <th>4</th>\n",
              "      <td>0032j000001UFAIAA4</td>\n",
              "      <td>2021-02-18</td>\n",
              "    </tr>\n",
              "  </tbody>\n",
              "</table>\n",
              "</div>\n",
              "      <button class=\"colab-df-convert\" onclick=\"convertToInteractive('df-76c2cac6-38a3-46db-940c-7d249af7864e')\"\n",
              "              title=\"Convert this dataframe to an interactive table.\"\n",
              "              style=\"display:none;\">\n",
              "        \n",
              "  <svg xmlns=\"http://www.w3.org/2000/svg\" height=\"24px\"viewBox=\"0 0 24 24\"\n",
              "       width=\"24px\">\n",
              "    <path d=\"M0 0h24v24H0V0z\" fill=\"none\"/>\n",
              "    <path d=\"M18.56 5.44l.94 2.06.94-2.06 2.06-.94-2.06-.94-.94-2.06-.94 2.06-2.06.94zm-11 1L8.5 8.5l.94-2.06 2.06-.94-2.06-.94L8.5 2.5l-.94 2.06-2.06.94zm10 10l.94 2.06.94-2.06 2.06-.94-2.06-.94-.94-2.06-.94 2.06-2.06.94z\"/><path d=\"M17.41 7.96l-1.37-1.37c-.4-.4-.92-.59-1.43-.59-.52 0-1.04.2-1.43.59L10.3 9.45l-7.72 7.72c-.78.78-.78 2.05 0 2.83L4 21.41c.39.39.9.59 1.41.59.51 0 1.02-.2 1.41-.59l7.78-7.78 2.81-2.81c.8-.78.8-2.07 0-2.86zM5.41 20L4 18.59l7.72-7.72 1.47 1.35L5.41 20z\"/>\n",
              "  </svg>\n",
              "      </button>\n",
              "      \n",
              "  <style>\n",
              "    .colab-df-container {\n",
              "      display:flex;\n",
              "      flex-wrap:wrap;\n",
              "      gap: 12px;\n",
              "    }\n",
              "\n",
              "    .colab-df-convert {\n",
              "      background-color: #E8F0FE;\n",
              "      border: none;\n",
              "      border-radius: 50%;\n",
              "      cursor: pointer;\n",
              "      display: none;\n",
              "      fill: #1967D2;\n",
              "      height: 32px;\n",
              "      padding: 0 0 0 0;\n",
              "      width: 32px;\n",
              "    }\n",
              "\n",
              "    .colab-df-convert:hover {\n",
              "      background-color: #E2EBFA;\n",
              "      box-shadow: 0px 1px 2px rgba(60, 64, 67, 0.3), 0px 1px 3px 1px rgba(60, 64, 67, 0.15);\n",
              "      fill: #174EA6;\n",
              "    }\n",
              "\n",
              "    [theme=dark] .colab-df-convert {\n",
              "      background-color: #3B4455;\n",
              "      fill: #D2E3FC;\n",
              "    }\n",
              "\n",
              "    [theme=dark] .colab-df-convert:hover {\n",
              "      background-color: #434B5C;\n",
              "      box-shadow: 0px 1px 3px 1px rgba(0, 0, 0, 0.15);\n",
              "      filter: drop-shadow(0px 1px 2px rgba(0, 0, 0, 0.3));\n",
              "      fill: #FFFFFF;\n",
              "    }\n",
              "  </style>\n",
              "\n",
              "      <script>\n",
              "        const buttonEl =\n",
              "          document.querySelector('#df-76c2cac6-38a3-46db-940c-7d249af7864e button.colab-df-convert');\n",
              "        buttonEl.style.display =\n",
              "          google.colab.kernel.accessAllowed ? 'block' : 'none';\n",
              "\n",
              "        async function convertToInteractive(key) {\n",
              "          const element = document.querySelector('#df-76c2cac6-38a3-46db-940c-7d249af7864e');\n",
              "          const dataTable =\n",
              "            await google.colab.kernel.invokeFunction('convertToInteractive',\n",
              "                                                     [key], {});\n",
              "          if (!dataTable) return;\n",
              "\n",
              "          const docLinkHtml = 'Like what you see? Visit the ' +\n",
              "            '<a target=\"_blank\" href=https://colab.research.google.com/notebooks/data_table.ipynb>data table notebook</a>'\n",
              "            + ' to learn more about interactive tables.';\n",
              "          element.innerHTML = '';\n",
              "          dataTable['output_type'] = 'display_data';\n",
              "          await google.colab.output.renderOutput(dataTable, element);\n",
              "          const docLink = document.createElement('div');\n",
              "          docLink.innerHTML = docLinkHtml;\n",
              "          element.appendChild(docLink);\n",
              "        }\n",
              "      </script>\n",
              "    </div>\n",
              "  </div>\n",
              "  "
            ]
          },
          "metadata": {},
          "execution_count": 7
        }
      ]
    },
    {
      "cell_type": "code",
      "source": [
        "target.size"
      ],
      "metadata": {
        "colab": {
          "base_uri": "https://localhost:8080/"
        },
        "id": "9S6QEO6k0ns7",
        "outputId": "3fe30ba6-5871-464d-ea2c-92ed473426aa"
      },
      "execution_count": null,
      "outputs": [
        {
          "output_type": "execute_result",
          "data": {
            "text/plain": [
              "8712"
            ]
          },
          "metadata": {},
          "execution_count": 8
        }
      ]
    },
    {
      "cell_type": "code",
      "source": [
        "activity.info()"
      ],
      "metadata": {
        "colab": {
          "base_uri": "https://localhost:8080/"
        },
        "id": "5-6qaTrf0vMM",
        "outputId": "80171e82-d6db-418f-dfa8-814031edbb96"
      },
      "execution_count": null,
      "outputs": [
        {
          "output_type": "stream",
          "name": "stdout",
          "text": [
            "<class 'pandas.core.frame.DataFrame'>\n",
            "RangeIndex: 904772 entries, 0 to 904771\n",
            "Data columns (total 4 columns):\n",
            " #   Column          Non-Null Count   Dtype \n",
            "---  ------          --------------   ----- \n",
            " 0   date            904772 non-null  object\n",
            " 1   customer        904772 non-null  object\n",
            " 2   activity_type   904772 non-null  object\n",
            " 3   activity_count  904772 non-null  int64 \n",
            "dtypes: int64(1), object(3)\n",
            "memory usage: 27.6+ MB\n"
          ]
        }
      ]
    },
    {
      "cell_type": "code",
      "source": [
        "target.info()"
      ],
      "metadata": {
        "colab": {
          "base_uri": "https://localhost:8080/"
        },
        "id": "tyhJe1CH1RPH",
        "outputId": "105bd7f3-d9b6-4a91-b3ef-bd5f1b98df09"
      },
      "execution_count": null,
      "outputs": [
        {
          "output_type": "stream",
          "name": "stdout",
          "text": [
            "<class 'pandas.core.frame.DataFrame'>\n",
            "RangeIndex: 4356 entries, 0 to 4355\n",
            "Data columns (total 2 columns):\n",
            " #   Column    Non-Null Count  Dtype \n",
            "---  ------    --------------  ----- \n",
            " 0   customer  4356 non-null   object\n",
            " 1   date      4356 non-null   object\n",
            "dtypes: object(2)\n",
            "memory usage: 68.2+ KB\n"
          ]
        }
      ]
    },
    {
      "cell_type": "code",
      "source": [
        "target.corrwith(activity, axis = 0)"
      ],
      "metadata": {
        "colab": {
          "base_uri": "https://localhost:8080/"
        },
        "id": "8ATun-WW1V-D",
        "outputId": "b23f50e9-e058-4a35-f04f-3ace9cb4cc85"
      },
      "execution_count": null,
      "outputs": [
        {
          "output_type": "execute_result",
          "data": {
            "text/plain": [
              "activity_count   NaN\n",
              "dtype: float64"
            ]
          },
          "metadata": {},
          "execution_count": 11
        }
      ]
    },
    {
      "cell_type": "code",
      "source": [
        "target['label'] = 1"
      ],
      "metadata": {
        "id": "9-H9cAqLJtm_"
      },
      "execution_count": null,
      "outputs": []
    },
    {
      "cell_type": "code",
      "source": [
        "target"
      ],
      "metadata": {
        "colab": {
          "base_uri": "https://localhost:8080/",
          "height": 424
        },
        "id": "N6W6C69dJ6pn",
        "outputId": "8c93dd54-e90d-4fb6-e119-0bc67ae3d257"
      },
      "execution_count": null,
      "outputs": [
        {
          "output_type": "execute_result",
          "data": {
            "text/plain": [
              "                customer        date  label\n",
              "0     0032j000001UaIdAAK  2020-11-06      1\n",
              "1     0032j000002hwpFAAQ  2021-05-20      1\n",
              "2     0032j0000077nwFAAQ  2020-12-18      1\n",
              "3     0032j000001UU6aAAG  2020-11-20      1\n",
              "4     0032j000001UFAIAA4  2021-02-18      1\n",
              "...                  ...         ...    ...\n",
              "4351  0032j00000BHLtnAAH  2021-05-07      1\n",
              "4352  0032j00000FafiJAAR  2021-04-20      1\n",
              "4353  0032j000004dfk5AAA  2021-05-20      1\n",
              "4354  0032j000002j97vAAA  2021-03-12      1\n",
              "4355  0032j000001USYCAA4  2021-03-01      1\n",
              "\n",
              "[4356 rows x 3 columns]"
            ],
            "text/html": [
              "\n",
              "  <div id=\"df-2c837712-b349-416c-86a2-6f74dcbccb48\">\n",
              "    <div class=\"colab-df-container\">\n",
              "      <div>\n",
              "<style scoped>\n",
              "    .dataframe tbody tr th:only-of-type {\n",
              "        vertical-align: middle;\n",
              "    }\n",
              "\n",
              "    .dataframe tbody tr th {\n",
              "        vertical-align: top;\n",
              "    }\n",
              "\n",
              "    .dataframe thead th {\n",
              "        text-align: right;\n",
              "    }\n",
              "</style>\n",
              "<table border=\"1\" class=\"dataframe\">\n",
              "  <thead>\n",
              "    <tr style=\"text-align: right;\">\n",
              "      <th></th>\n",
              "      <th>customer</th>\n",
              "      <th>date</th>\n",
              "      <th>label</th>\n",
              "    </tr>\n",
              "  </thead>\n",
              "  <tbody>\n",
              "    <tr>\n",
              "      <th>0</th>\n",
              "      <td>0032j000001UaIdAAK</td>\n",
              "      <td>2020-11-06</td>\n",
              "      <td>1</td>\n",
              "    </tr>\n",
              "    <tr>\n",
              "      <th>1</th>\n",
              "      <td>0032j000002hwpFAAQ</td>\n",
              "      <td>2021-05-20</td>\n",
              "      <td>1</td>\n",
              "    </tr>\n",
              "    <tr>\n",
              "      <th>2</th>\n",
              "      <td>0032j0000077nwFAAQ</td>\n",
              "      <td>2020-12-18</td>\n",
              "      <td>1</td>\n",
              "    </tr>\n",
              "    <tr>\n",
              "      <th>3</th>\n",
              "      <td>0032j000001UU6aAAG</td>\n",
              "      <td>2020-11-20</td>\n",
              "      <td>1</td>\n",
              "    </tr>\n",
              "    <tr>\n",
              "      <th>4</th>\n",
              "      <td>0032j000001UFAIAA4</td>\n",
              "      <td>2021-02-18</td>\n",
              "      <td>1</td>\n",
              "    </tr>\n",
              "    <tr>\n",
              "      <th>...</th>\n",
              "      <td>...</td>\n",
              "      <td>...</td>\n",
              "      <td>...</td>\n",
              "    </tr>\n",
              "    <tr>\n",
              "      <th>4351</th>\n",
              "      <td>0032j00000BHLtnAAH</td>\n",
              "      <td>2021-05-07</td>\n",
              "      <td>1</td>\n",
              "    </tr>\n",
              "    <tr>\n",
              "      <th>4352</th>\n",
              "      <td>0032j00000FafiJAAR</td>\n",
              "      <td>2021-04-20</td>\n",
              "      <td>1</td>\n",
              "    </tr>\n",
              "    <tr>\n",
              "      <th>4353</th>\n",
              "      <td>0032j000004dfk5AAA</td>\n",
              "      <td>2021-05-20</td>\n",
              "      <td>1</td>\n",
              "    </tr>\n",
              "    <tr>\n",
              "      <th>4354</th>\n",
              "      <td>0032j000002j97vAAA</td>\n",
              "      <td>2021-03-12</td>\n",
              "      <td>1</td>\n",
              "    </tr>\n",
              "    <tr>\n",
              "      <th>4355</th>\n",
              "      <td>0032j000001USYCAA4</td>\n",
              "      <td>2021-03-01</td>\n",
              "      <td>1</td>\n",
              "    </tr>\n",
              "  </tbody>\n",
              "</table>\n",
              "<p>4356 rows × 3 columns</p>\n",
              "</div>\n",
              "      <button class=\"colab-df-convert\" onclick=\"convertToInteractive('df-2c837712-b349-416c-86a2-6f74dcbccb48')\"\n",
              "              title=\"Convert this dataframe to an interactive table.\"\n",
              "              style=\"display:none;\">\n",
              "        \n",
              "  <svg xmlns=\"http://www.w3.org/2000/svg\" height=\"24px\"viewBox=\"0 0 24 24\"\n",
              "       width=\"24px\">\n",
              "    <path d=\"M0 0h24v24H0V0z\" fill=\"none\"/>\n",
              "    <path d=\"M18.56 5.44l.94 2.06.94-2.06 2.06-.94-2.06-.94-.94-2.06-.94 2.06-2.06.94zm-11 1L8.5 8.5l.94-2.06 2.06-.94-2.06-.94L8.5 2.5l-.94 2.06-2.06.94zm10 10l.94 2.06.94-2.06 2.06-.94-2.06-.94-.94-2.06-.94 2.06-2.06.94z\"/><path d=\"M17.41 7.96l-1.37-1.37c-.4-.4-.92-.59-1.43-.59-.52 0-1.04.2-1.43.59L10.3 9.45l-7.72 7.72c-.78.78-.78 2.05 0 2.83L4 21.41c.39.39.9.59 1.41.59.51 0 1.02-.2 1.41-.59l7.78-7.78 2.81-2.81c.8-.78.8-2.07 0-2.86zM5.41 20L4 18.59l7.72-7.72 1.47 1.35L5.41 20z\"/>\n",
              "  </svg>\n",
              "      </button>\n",
              "      \n",
              "  <style>\n",
              "    .colab-df-container {\n",
              "      display:flex;\n",
              "      flex-wrap:wrap;\n",
              "      gap: 12px;\n",
              "    }\n",
              "\n",
              "    .colab-df-convert {\n",
              "      background-color: #E8F0FE;\n",
              "      border: none;\n",
              "      border-radius: 50%;\n",
              "      cursor: pointer;\n",
              "      display: none;\n",
              "      fill: #1967D2;\n",
              "      height: 32px;\n",
              "      padding: 0 0 0 0;\n",
              "      width: 32px;\n",
              "    }\n",
              "\n",
              "    .colab-df-convert:hover {\n",
              "      background-color: #E2EBFA;\n",
              "      box-shadow: 0px 1px 2px rgba(60, 64, 67, 0.3), 0px 1px 3px 1px rgba(60, 64, 67, 0.15);\n",
              "      fill: #174EA6;\n",
              "    }\n",
              "\n",
              "    [theme=dark] .colab-df-convert {\n",
              "      background-color: #3B4455;\n",
              "      fill: #D2E3FC;\n",
              "    }\n",
              "\n",
              "    [theme=dark] .colab-df-convert:hover {\n",
              "      background-color: #434B5C;\n",
              "      box-shadow: 0px 1px 3px 1px rgba(0, 0, 0, 0.15);\n",
              "      filter: drop-shadow(0px 1px 2px rgba(0, 0, 0, 0.3));\n",
              "      fill: #FFFFFF;\n",
              "    }\n",
              "  </style>\n",
              "\n",
              "      <script>\n",
              "        const buttonEl =\n",
              "          document.querySelector('#df-2c837712-b349-416c-86a2-6f74dcbccb48 button.colab-df-convert');\n",
              "        buttonEl.style.display =\n",
              "          google.colab.kernel.accessAllowed ? 'block' : 'none';\n",
              "\n",
              "        async function convertToInteractive(key) {\n",
              "          const element = document.querySelector('#df-2c837712-b349-416c-86a2-6f74dcbccb48');\n",
              "          const dataTable =\n",
              "            await google.colab.kernel.invokeFunction('convertToInteractive',\n",
              "                                                     [key], {});\n",
              "          if (!dataTable) return;\n",
              "\n",
              "          const docLinkHtml = 'Like what you see? Visit the ' +\n",
              "            '<a target=\"_blank\" href=https://colab.research.google.com/notebooks/data_table.ipynb>data table notebook</a>'\n",
              "            + ' to learn more about interactive tables.';\n",
              "          element.innerHTML = '';\n",
              "          dataTable['output_type'] = 'display_data';\n",
              "          await google.colab.output.renderOutput(dataTable, element);\n",
              "          const docLink = document.createElement('div');\n",
              "          docLink.innerHTML = docLinkHtml;\n",
              "          element.appendChild(docLink);\n",
              "        }\n",
              "      </script>\n",
              "    </div>\n",
              "  </div>\n",
              "  "
            ]
          },
          "metadata": {},
          "execution_count": 13
        }
      ]
    },
    {
      "cell_type": "code",
      "source": [
        "activity['activity_count'].value_counts()"
      ],
      "metadata": {
        "colab": {
          "base_uri": "https://localhost:8080/"
        },
        "id": "sy6KKkQF2O_f",
        "outputId": "3c7472a4-3145-443d-d8d3-82a1b4054d72"
      },
      "execution_count": null,
      "outputs": [
        {
          "output_type": "execute_result",
          "data": {
            "text/plain": [
              "1    904772\n",
              "Name: activity_count, dtype: int64"
            ]
          },
          "metadata": {},
          "execution_count": 14
        }
      ]
    },
    {
      "cell_type": "code",
      "source": [
        "activity['customer'].value_counts()"
      ],
      "metadata": {
        "colab": {
          "base_uri": "https://localhost:8080/"
        },
        "id": "PNbPhex02mwy",
        "outputId": "1d959d06-7709-42ec-d08b-b35f8ff01ec8"
      },
      "execution_count": null,
      "outputs": [
        {
          "output_type": "execute_result",
          "data": {
            "text/plain": [
              "0032j000002j4GWAAY    2679\n",
              "0032j000007nSMwAAM    2096\n",
              "0032j000002j4GJAAY    1875\n",
              "0032j000007nSNAAA2    1663\n",
              "0032j000001Ug00AAC    1632\n",
              "                      ... \n",
              "0032j000008lkdVAAQ       1\n",
              "0032j000007oA8mAAE       1\n",
              "0032j000004e8msAAA       1\n",
              "0032j000001UWDEAA4       1\n",
              "0032j00000BHDuCAAX       1\n",
              "Name: customer, Length: 139556, dtype: int64"
            ]
          },
          "metadata": {},
          "execution_count": 15
        }
      ]
    },
    {
      "cell_type": "code",
      "source": [
        "activity['activity_type'].value_counts()"
      ],
      "metadata": {
        "colab": {
          "base_uri": "https://localhost:8080/"
        },
        "id": "jfmyGpuo2_uY",
        "outputId": "91e32e1e-3f71-4cf3-a4a4-3a9a540f6d57"
      },
      "execution_count": null,
      "outputs": [
        {
          "output_type": "execute_result",
          "data": {
            "text/plain": [
              "m    141826\n",
              "l    105307\n",
              "x     87210\n",
              "u     72070\n",
              "j     67173\n",
              "n     66369\n",
              "a     54025\n",
              "h     51355\n",
              "i     38058\n",
              "p     32318\n",
              "b     30453\n",
              "f     28804\n",
              "y     26521\n",
              "t     22475\n",
              "v     20111\n",
              "o     19318\n",
              "w     18691\n",
              "s     10313\n",
              "c      6115\n",
              "d      2728\n",
              "k      1891\n",
              "r      1032\n",
              "q       490\n",
              "e        71\n",
              "g        48\n",
              "Name: activity_type, dtype: int64"
            ]
          },
          "metadata": {},
          "execution_count": 16
        }
      ]
    },
    {
      "cell_type": "code",
      "source": [
        "activity_new = pd.merge(activity, target, on=['customer', 'date'], how='left')"
      ],
      "metadata": {
        "id": "xUShYmt43Ibi"
      },
      "execution_count": null,
      "outputs": []
    },
    {
      "cell_type": "code",
      "source": [
        "activity_new = activity_new.fillna(0)"
      ],
      "metadata": {
        "id": "bDUXyELqJa5y"
      },
      "execution_count": null,
      "outputs": []
    },
    {
      "cell_type": "code",
      "source": [
        "activity_new"
      ],
      "metadata": {
        "colab": {
          "base_uri": "https://localhost:8080/",
          "height": 424
        },
        "id": "nSy9-DSh71qu",
        "outputId": "67ceb6a1-423e-4f6b-f0ef-9434ad0a1510"
      },
      "execution_count": null,
      "outputs": [
        {
          "output_type": "execute_result",
          "data": {
            "text/plain": [
              "              date            customer activity_type  activity_count  label\n",
              "0       2021-01-20  0032j000002jRYxAAM             a               1    0.0\n",
              "1       2021-05-11  0032j00000FZcIvAAL             a               1    0.0\n",
              "2       2020-12-09  0032j000002gKM8AAM             a               1    0.0\n",
              "3       2021-03-30  0032j000001UX7cAAG             a               1    0.0\n",
              "4       2020-10-19  0032j000004etUWAAY             a               1    0.0\n",
              "...            ...                 ...           ...             ...    ...\n",
              "904767  2020-10-16  0032j00000BHEpXAAX             f               1    0.0\n",
              "904768  2020-10-16  0032j00000BHEqDAAX             f               1    0.0\n",
              "904769  2020-10-16  0032j00000BHEo8AAH             f               1    0.0\n",
              "904770  2020-10-16  0032j00000BHDuCAAX             f               1    0.0\n",
              "904771  2020-10-19  0032j00000BHMNTAA5             f               1    0.0\n",
              "\n",
              "[904772 rows x 5 columns]"
            ],
            "text/html": [
              "\n",
              "  <div id=\"df-612a838d-b4b8-4591-9f58-1a3a5424f867\">\n",
              "    <div class=\"colab-df-container\">\n",
              "      <div>\n",
              "<style scoped>\n",
              "    .dataframe tbody tr th:only-of-type {\n",
              "        vertical-align: middle;\n",
              "    }\n",
              "\n",
              "    .dataframe tbody tr th {\n",
              "        vertical-align: top;\n",
              "    }\n",
              "\n",
              "    .dataframe thead th {\n",
              "        text-align: right;\n",
              "    }\n",
              "</style>\n",
              "<table border=\"1\" class=\"dataframe\">\n",
              "  <thead>\n",
              "    <tr style=\"text-align: right;\">\n",
              "      <th></th>\n",
              "      <th>date</th>\n",
              "      <th>customer</th>\n",
              "      <th>activity_type</th>\n",
              "      <th>activity_count</th>\n",
              "      <th>label</th>\n",
              "    </tr>\n",
              "  </thead>\n",
              "  <tbody>\n",
              "    <tr>\n",
              "      <th>0</th>\n",
              "      <td>2021-01-20</td>\n",
              "      <td>0032j000002jRYxAAM</td>\n",
              "      <td>a</td>\n",
              "      <td>1</td>\n",
              "      <td>0.0</td>\n",
              "    </tr>\n",
              "    <tr>\n",
              "      <th>1</th>\n",
              "      <td>2021-05-11</td>\n",
              "      <td>0032j00000FZcIvAAL</td>\n",
              "      <td>a</td>\n",
              "      <td>1</td>\n",
              "      <td>0.0</td>\n",
              "    </tr>\n",
              "    <tr>\n",
              "      <th>2</th>\n",
              "      <td>2020-12-09</td>\n",
              "      <td>0032j000002gKM8AAM</td>\n",
              "      <td>a</td>\n",
              "      <td>1</td>\n",
              "      <td>0.0</td>\n",
              "    </tr>\n",
              "    <tr>\n",
              "      <th>3</th>\n",
              "      <td>2021-03-30</td>\n",
              "      <td>0032j000001UX7cAAG</td>\n",
              "      <td>a</td>\n",
              "      <td>1</td>\n",
              "      <td>0.0</td>\n",
              "    </tr>\n",
              "    <tr>\n",
              "      <th>4</th>\n",
              "      <td>2020-10-19</td>\n",
              "      <td>0032j000004etUWAAY</td>\n",
              "      <td>a</td>\n",
              "      <td>1</td>\n",
              "      <td>0.0</td>\n",
              "    </tr>\n",
              "    <tr>\n",
              "      <th>...</th>\n",
              "      <td>...</td>\n",
              "      <td>...</td>\n",
              "      <td>...</td>\n",
              "      <td>...</td>\n",
              "      <td>...</td>\n",
              "    </tr>\n",
              "    <tr>\n",
              "      <th>904767</th>\n",
              "      <td>2020-10-16</td>\n",
              "      <td>0032j00000BHEpXAAX</td>\n",
              "      <td>f</td>\n",
              "      <td>1</td>\n",
              "      <td>0.0</td>\n",
              "    </tr>\n",
              "    <tr>\n",
              "      <th>904768</th>\n",
              "      <td>2020-10-16</td>\n",
              "      <td>0032j00000BHEqDAAX</td>\n",
              "      <td>f</td>\n",
              "      <td>1</td>\n",
              "      <td>0.0</td>\n",
              "    </tr>\n",
              "    <tr>\n",
              "      <th>904769</th>\n",
              "      <td>2020-10-16</td>\n",
              "      <td>0032j00000BHEo8AAH</td>\n",
              "      <td>f</td>\n",
              "      <td>1</td>\n",
              "      <td>0.0</td>\n",
              "    </tr>\n",
              "    <tr>\n",
              "      <th>904770</th>\n",
              "      <td>2020-10-16</td>\n",
              "      <td>0032j00000BHDuCAAX</td>\n",
              "      <td>f</td>\n",
              "      <td>1</td>\n",
              "      <td>0.0</td>\n",
              "    </tr>\n",
              "    <tr>\n",
              "      <th>904771</th>\n",
              "      <td>2020-10-19</td>\n",
              "      <td>0032j00000BHMNTAA5</td>\n",
              "      <td>f</td>\n",
              "      <td>1</td>\n",
              "      <td>0.0</td>\n",
              "    </tr>\n",
              "  </tbody>\n",
              "</table>\n",
              "<p>904772 rows × 5 columns</p>\n",
              "</div>\n",
              "      <button class=\"colab-df-convert\" onclick=\"convertToInteractive('df-612a838d-b4b8-4591-9f58-1a3a5424f867')\"\n",
              "              title=\"Convert this dataframe to an interactive table.\"\n",
              "              style=\"display:none;\">\n",
              "        \n",
              "  <svg xmlns=\"http://www.w3.org/2000/svg\" height=\"24px\"viewBox=\"0 0 24 24\"\n",
              "       width=\"24px\">\n",
              "    <path d=\"M0 0h24v24H0V0z\" fill=\"none\"/>\n",
              "    <path d=\"M18.56 5.44l.94 2.06.94-2.06 2.06-.94-2.06-.94-.94-2.06-.94 2.06-2.06.94zm-11 1L8.5 8.5l.94-2.06 2.06-.94-2.06-.94L8.5 2.5l-.94 2.06-2.06.94zm10 10l.94 2.06.94-2.06 2.06-.94-2.06-.94-.94-2.06-.94 2.06-2.06.94z\"/><path d=\"M17.41 7.96l-1.37-1.37c-.4-.4-.92-.59-1.43-.59-.52 0-1.04.2-1.43.59L10.3 9.45l-7.72 7.72c-.78.78-.78 2.05 0 2.83L4 21.41c.39.39.9.59 1.41.59.51 0 1.02-.2 1.41-.59l7.78-7.78 2.81-2.81c.8-.78.8-2.07 0-2.86zM5.41 20L4 18.59l7.72-7.72 1.47 1.35L5.41 20z\"/>\n",
              "  </svg>\n",
              "      </button>\n",
              "      \n",
              "  <style>\n",
              "    .colab-df-container {\n",
              "      display:flex;\n",
              "      flex-wrap:wrap;\n",
              "      gap: 12px;\n",
              "    }\n",
              "\n",
              "    .colab-df-convert {\n",
              "      background-color: #E8F0FE;\n",
              "      border: none;\n",
              "      border-radius: 50%;\n",
              "      cursor: pointer;\n",
              "      display: none;\n",
              "      fill: #1967D2;\n",
              "      height: 32px;\n",
              "      padding: 0 0 0 0;\n",
              "      width: 32px;\n",
              "    }\n",
              "\n",
              "    .colab-df-convert:hover {\n",
              "      background-color: #E2EBFA;\n",
              "      box-shadow: 0px 1px 2px rgba(60, 64, 67, 0.3), 0px 1px 3px 1px rgba(60, 64, 67, 0.15);\n",
              "      fill: #174EA6;\n",
              "    }\n",
              "\n",
              "    [theme=dark] .colab-df-convert {\n",
              "      background-color: #3B4455;\n",
              "      fill: #D2E3FC;\n",
              "    }\n",
              "\n",
              "    [theme=dark] .colab-df-convert:hover {\n",
              "      background-color: #434B5C;\n",
              "      box-shadow: 0px 1px 3px 1px rgba(0, 0, 0, 0.15);\n",
              "      filter: drop-shadow(0px 1px 2px rgba(0, 0, 0, 0.3));\n",
              "      fill: #FFFFFF;\n",
              "    }\n",
              "  </style>\n",
              "\n",
              "      <script>\n",
              "        const buttonEl =\n",
              "          document.querySelector('#df-612a838d-b4b8-4591-9f58-1a3a5424f867 button.colab-df-convert');\n",
              "        buttonEl.style.display =\n",
              "          google.colab.kernel.accessAllowed ? 'block' : 'none';\n",
              "\n",
              "        async function convertToInteractive(key) {\n",
              "          const element = document.querySelector('#df-612a838d-b4b8-4591-9f58-1a3a5424f867');\n",
              "          const dataTable =\n",
              "            await google.colab.kernel.invokeFunction('convertToInteractive',\n",
              "                                                     [key], {});\n",
              "          if (!dataTable) return;\n",
              "\n",
              "          const docLinkHtml = 'Like what you see? Visit the ' +\n",
              "            '<a target=\"_blank\" href=https://colab.research.google.com/notebooks/data_table.ipynb>data table notebook</a>'\n",
              "            + ' to learn more about interactive tables.';\n",
              "          element.innerHTML = '';\n",
              "          dataTable['output_type'] = 'display_data';\n",
              "          await google.colab.output.renderOutput(dataTable, element);\n",
              "          const docLink = document.createElement('div');\n",
              "          docLink.innerHTML = docLinkHtml;\n",
              "          element.appendChild(docLink);\n",
              "        }\n",
              "      </script>\n",
              "    </div>\n",
              "  </div>\n",
              "  "
            ]
          },
          "metadata": {},
          "execution_count": 19
        }
      ]
    },
    {
      "cell_type": "code",
      "source": [
        "activity_new['label'].value_counts()"
      ],
      "metadata": {
        "colab": {
          "base_uri": "https://localhost:8080/"
        },
        "id": "CuKRgSG29z0S",
        "outputId": "8834c695-7f93-4de0-e120-e02d6f8d9b9b"
      },
      "execution_count": null,
      "outputs": [
        {
          "output_type": "execute_result",
          "data": {
            "text/plain": [
              "0.0    891078\n",
              "1.0     13694\n",
              "Name: label, dtype: int64"
            ]
          },
          "metadata": {},
          "execution_count": 20
        }
      ]
    },
    {
      "cell_type": "code",
      "source": [
        "from sklearn.utils import resample\n",
        "\n",
        "activity_new_majority = activity_new[activity_new.label==0]\n",
        "activity_new_minority = activity_new[activity_new.label==1]\n",
        "\n",
        "activity_new_majority_downsampled = resample(activity_new_majority, \n",
        "                                 replace=False,    # sample without replacement\n",
        "                                 n_samples=20000,     # to match minority class\n",
        "                                 random_state=123) # reproducible results\n",
        "\n",
        "# Combine minority class with downsampled majority class\n",
        "activity_new_downsampled = pd.concat([activity_new_majority_downsampled, activity_new_minority])"
      ],
      "metadata": {
        "id": "jcQuxHiYSsT5"
      },
      "execution_count": null,
      "outputs": []
    },
    {
      "cell_type": "code",
      "source": [
        "import matplotlib.pyplot as plt\n",
        "%matplotlib inline"
      ],
      "metadata": {
        "id": "cvov7krTO8Va"
      },
      "execution_count": null,
      "outputs": []
    },
    {
      "cell_type": "code",
      "source": [
        "activity_new_downsampled.hist(figsize=(20,16), color = 'blue');"
      ],
      "metadata": {
        "colab": {
          "base_uri": "https://localhost:8080/",
          "height": 767
        },
        "id": "M7Qtx23tPk2K",
        "outputId": "60956104-1ad0-46ad-bb1b-34611502ad67"
      },
      "execution_count": null,
      "outputs": [
        {
          "output_type": "display_data",
          "data": {
            "text/plain": [
              "<Figure size 1440x1152 with 2 Axes>"
            ],
            "image/png": "[encoded data removed]"
          },
          "metadata": {
            "needs_background": "light"
          }
        }
      ]
    },
    {
      "cell_type": "code",
      "source": [
        "activity_new_downsampled = activity_new_downsampled.drop(['date', 'customer', 'activity_count'], axis=1)"
      ],
      "metadata": {
        "id": "12Jejf_5ODKX"
      },
      "execution_count": null,
      "outputs": []
    },
    {
      "cell_type": "code",
      "source": [
        "activity_new_downsampled"
      ],
      "metadata": {
        "colab": {
          "base_uri": "https://localhost:8080/",
          "height": 424
        },
        "id": "hGyiDluaQIbC",
        "outputId": "2e0c3367-0c4a-4783-c0bf-658a17932fa3"
      },
      "execution_count": null,
      "outputs": [
        {
          "output_type": "execute_result",
          "data": {
            "text/plain": [
              "       activity_type  label\n",
              "270313             w    0.0\n",
              "51266              s    0.0\n",
              "559913             b    0.0\n",
              "48303              o    0.0\n",
              "713700             m    0.0\n",
              "...              ...    ...\n",
              "896323             i    1.0\n",
              "896326             i    1.0\n",
              "896361             i    1.0\n",
              "896378             i    1.0\n",
              "896466             i    1.0\n",
              "\n",
              "[33694 rows x 2 columns]"
            ],
            "text/html": [
              "\n",
              "  <div id=\"df-208fedd9-90fc-4b81-a013-489fc67f4998\">\n",
              "    <div class=\"colab-df-container\">\n",
              "      <div>\n",
              "<style scoped>\n",
              "    .dataframe tbody tr th:only-of-type {\n",
              "        vertical-align: middle;\n",
              "    }\n",
              "\n",
              "    .dataframe tbody tr th {\n",
              "        vertical-align: top;\n",
              "    }\n",
              "\n",
              "    .dataframe thead th {\n",
              "        text-align: right;\n",
              "    }\n",
              "</style>\n",
              "<table border=\"1\" class=\"dataframe\">\n",
              "  <thead>\n",
              "    <tr style=\"text-align: right;\">\n",
              "      <th></th>\n",
              "      <th>activity_type</th>\n",
              "      <th>label</th>\n",
              "    </tr>\n",
              "  </thead>\n",
              "  <tbody>\n",
              "    <tr>\n",
              "      <th>270313</th>\n",
              "      <td>w</td>\n",
              "      <td>0.0</td>\n",
              "    </tr>\n",
              "    <tr>\n",
              "      <th>51266</th>\n",
              "      <td>s</td>\n",
              "      <td>0.0</td>\n",
              "    </tr>\n",
              "    <tr>\n",
              "      <th>559913</th>\n",
              "      <td>b</td>\n",
              "      <td>0.0</td>\n",
              "    </tr>\n",
              "    <tr>\n",
              "      <th>48303</th>\n",
              "      <td>o</td>\n",
              "      <td>0.0</td>\n",
              "    </tr>\n",
              "    <tr>\n",
              "      <th>713700</th>\n",
              "      <td>m</td>\n",
              "      <td>0.0</td>\n",
              "    </tr>\n",
              "    <tr>\n",
              "      <th>...</th>\n",
              "      <td>...</td>\n",
              "      <td>...</td>\n",
              "    </tr>\n",
              "    <tr>\n",
              "      <th>896323</th>\n",
              "      <td>i</td>\n",
              "      <td>1.0</td>\n",
              "    </tr>\n",
              "    <tr>\n",
              "      <th>896326</th>\n",
              "      <td>i</td>\n",
              "      <td>1.0</td>\n",
              "    </tr>\n",
              "    <tr>\n",
              "      <th>896361</th>\n",
              "      <td>i</td>\n",
              "      <td>1.0</td>\n",
              "    </tr>\n",
              "    <tr>\n",
              "      <th>896378</th>\n",
              "      <td>i</td>\n",
              "      <td>1.0</td>\n",
              "    </tr>\n",
              "    <tr>\n",
              "      <th>896466</th>\n",
              "      <td>i</td>\n",
              "      <td>1.0</td>\n",
              "    </tr>\n",
              "  </tbody>\n",
              "</table>\n",
              "<p>33694 rows × 2 columns</p>\n",
              "</div>\n",
              "      <button class=\"colab-df-convert\" onclick=\"convertToInteractive('df-208fedd9-90fc-4b81-a013-489fc67f4998')\"\n",
              "              title=\"Convert this dataframe to an interactive table.\"\n",
              "              style=\"display:none;\">\n",
              "        \n",
              "  <svg xmlns=\"http://www.w3.org/2000/svg\" height=\"24px\"viewBox=\"0 0 24 24\"\n",
              "       width=\"24px\">\n",
              "    <path d=\"M0 0h24v24H0V0z\" fill=\"none\"/>\n",
              "    <path d=\"M18.56 5.44l.94 2.06.94-2.06 2.06-.94-2.06-.94-.94-2.06-.94 2.06-2.06.94zm-11 1L8.5 8.5l.94-2.06 2.06-.94-2.06-.94L8.5 2.5l-.94 2.06-2.06.94zm10 10l.94 2.06.94-2.06 2.06-.94-2.06-.94-.94-2.06-.94 2.06-2.06.94z\"/><path d=\"M17.41 7.96l-1.37-1.37c-.4-.4-.92-.59-1.43-.59-.52 0-1.04.2-1.43.59L10.3 9.45l-7.72 7.72c-.78.78-.78 2.05 0 2.83L4 21.41c.39.39.9.59 1.41.59.51 0 1.02-.2 1.41-.59l7.78-7.78 2.81-2.81c.8-.78.8-2.07 0-2.86zM5.41 20L4 18.59l7.72-7.72 1.47 1.35L5.41 20z\"/>\n",
              "  </svg>\n",
              "      </button>\n",
              "      \n",
              "  <style>\n",
              "    .colab-df-container {\n",
              "      display:flex;\n",
              "      flex-wrap:wrap;\n",
              "      gap: 12px;\n",
              "    }\n",
              "\n",
              "    .colab-df-convert {\n",
              "      background-color: #E8F0FE;\n",
              "      border: none;\n",
              "      border-radius: 50%;\n",
              "      cursor: pointer;\n",
              "      display: none;\n",
              "      fill: #1967D2;\n",
              "      height: 32px;\n",
              "      padding: 0 0 0 0;\n",
              "      width: 32px;\n",
              "    }\n",
              "\n",
              "    .colab-df-convert:hover {\n",
              "      background-color: #E2EBFA;\n",
              "      box-shadow: 0px 1px 2px rgba(60, 64, 67, 0.3), 0px 1px 3px 1px rgba(60, 64, 67, 0.15);\n",
              "      fill: #174EA6;\n",
              "    }\n",
              "\n",
              "    [theme=dark] .colab-df-convert {\n",
              "      background-color: #3B4455;\n",
              "      fill: #D2E3FC;\n",
              "    }\n",
              "\n",
              "    [theme=dark] .colab-df-convert:hover {\n",
              "      background-color: #434B5C;\n",
              "      box-shadow: 0px 1px 3px 1px rgba(0, 0, 0, 0.15);\n",
              "      filter: drop-shadow(0px 1px 2px rgba(0, 0, 0, 0.3));\n",
              "      fill: #FFFFFF;\n",
              "    }\n",
              "  </style>\n",
              "\n",
              "      <script>\n",
              "        const buttonEl =\n",
              "          document.querySelector('#df-208fedd9-90fc-4b81-a013-489fc67f4998 button.colab-df-convert');\n",
              "        buttonEl.style.display =\n",
              "          google.colab.kernel.accessAllowed ? 'block' : 'none';\n",
              "\n",
              "        async function convertToInteractive(key) {\n",
              "          const element = document.querySelector('#df-208fedd9-90fc-4b81-a013-489fc67f4998');\n",
              "          const dataTable =\n",
              "            await google.colab.kernel.invokeFunction('convertToInteractive',\n",
              "                                                     [key], {});\n",
              "          if (!dataTable) return;\n",
              "\n",
              "          const docLinkHtml = 'Like what you see? Visit the ' +\n",
              "            '<a target=\"_blank\" href=https://colab.research.google.com/notebooks/data_table.ipynb>data table notebook</a>'\n",
              "            + ' to learn more about interactive tables.';\n",
              "          element.innerHTML = '';\n",
              "          dataTable['output_type'] = 'display_data';\n",
              "          await google.colab.output.renderOutput(dataTable, element);\n",
              "          const docLink = document.createElement('div');\n",
              "          docLink.innerHTML = docLinkHtml;\n",
              "          element.appendChild(docLink);\n",
              "        }\n",
              "      </script>\n",
              "    </div>\n",
              "  </div>\n",
              "  "
            ]
          },
          "metadata": {},
          "execution_count": 25
        }
      ]
    },
    {
      "cell_type": "code",
      "source": [
        "#encoding categorical variables to numeric ones\n",
        "from sklearn.preprocessing import LabelEncoder\n",
        "\n",
        "# categorical to numeric\n",
        "def obj_to_num(df):\n",
        "    for c in df.columns:\n",
        "        if df[c].dtype=='object':    #Since we are encoding object datatype to integer/float\n",
        "            lbl = LabelEncoder()\n",
        "            lbl.fit(list(df[c].values))\n",
        "            df[c] = lbl.transform(df[c].values)\n",
        "    return df"
      ],
      "metadata": {
        "id": "8q0S6V1hQMTa"
      },
      "execution_count": null,
      "outputs": []
    },
    {
      "cell_type": "code",
      "source": [
        "activity_new_downsampled = obj_to_num(activity_new_downsampled)"
      ],
      "metadata": {
        "id": "PsYSalICQgJ0"
      },
      "execution_count": null,
      "outputs": []
    },
    {
      "cell_type": "code",
      "source": [
        "activity_new_downsampled"
      ],
      "metadata": {
        "colab": {
          "base_uri": "https://localhost:8080/",
          "height": 424
        },
        "id": "i94HOoqDQqam",
        "outputId": "b607bc24-1873-4142-a268-609d8589084e"
      },
      "execution_count": null,
      "outputs": [
        {
          "output_type": "execute_result",
          "data": {
            "text/plain": [
              "        activity_type  label\n",
              "270313             21    0.0\n",
              "51266              17    0.0\n",
              "559913              1    0.0\n",
              "48303              13    0.0\n",
              "713700             11    0.0\n",
              "...               ...    ...\n",
              "896323              7    1.0\n",
              "896326              7    1.0\n",
              "896361              7    1.0\n",
              "896378              7    1.0\n",
              "896466              7    1.0\n",
              "\n",
              "[33694 rows x 2 columns]"
            ],
            "text/html": [
              "\n",
              "  <div id=\"df-f07902fe-4e30-4384-a187-8307cdeaa760\">\n",
              "    <div class=\"colab-df-container\">\n",
              "      <div>\n",
              "<style scoped>\n",
              "    .dataframe tbody tr th:only-of-type {\n",
              "        vertical-align: middle;\n",
              "    }\n",
              "\n",
              "    .dataframe tbody tr th {\n",
              "        vertical-align: top;\n",
              "    }\n",
              "\n",
              "    .dataframe thead th {\n",
              "        text-align: right;\n",
              "    }\n",
              "</style>\n",
              "<table border=\"1\" class=\"dataframe\">\n",
              "  <thead>\n",
              "    <tr style=\"text-align: right;\">\n",
              "      <th></th>\n",
              "      <th>activity_type</th>\n",
              "      <th>label</th>\n",
              "    </tr>\n",
              "  </thead>\n",
              "  <tbody>\n",
              "    <tr>\n",
              "      <th>270313</th>\n",
              "      <td>21</td>\n",
              "      <td>0.0</td>\n",
              "    </tr>\n",
              "    <tr>\n",
              "      <th>51266</th>\n",
              "      <td>17</td>\n",
              "      <td>0.0</td>\n",
              "    </tr>\n",
              "    <tr>\n",
              "      <th>559913</th>\n",
              "      <td>1</td>\n",
              "      <td>0.0</td>\n",
              "    </tr>\n",
              "    <tr>\n",
              "      <th>48303</th>\n",
              "      <td>13</td>\n",
              "      <td>0.0</td>\n",
              "    </tr>\n",
              "    <tr>\n",
              "      <th>713700</th>\n",
              "      <td>11</td>\n",
              "      <td>0.0</td>\n",
              "    </tr>\n",
              "    <tr>\n",
              "      <th>...</th>\n",
              "      <td>...</td>\n",
              "      <td>...</td>\n",
              "    </tr>\n",
              "    <tr>\n",
              "      <th>896323</th>\n",
              "      <td>7</td>\n",
              "      <td>1.0</td>\n",
              "    </tr>\n",
              "    <tr>\n",
              "      <th>896326</th>\n",
              "      <td>7</td>\n",
              "      <td>1.0</td>\n",
              "    </tr>\n",
              "    <tr>\n",
              "      <th>896361</th>\n",
              "      <td>7</td>\n",
              "      <td>1.0</td>\n",
              "    </tr>\n",
              "    <tr>\n",
              "      <th>896378</th>\n",
              "      <td>7</td>\n",
              "      <td>1.0</td>\n",
              "    </tr>\n",
              "    <tr>\n",
              "      <th>896466</th>\n",
              "      <td>7</td>\n",
              "      <td>1.0</td>\n",
              "    </tr>\n",
              "  </tbody>\n",
              "</table>\n",
              "<p>33694 rows × 2 columns</p>\n",
              "</div>\n",
              "      <button class=\"colab-df-convert\" onclick=\"convertToInteractive('df-f07902fe-4e30-4384-a187-8307cdeaa760')\"\n",
              "              title=\"Convert this dataframe to an interactive table.\"\n",
              "              style=\"display:none;\">\n",
              "        \n",
              "  <svg xmlns=\"http://www.w3.org/2000/svg\" height=\"24px\"viewBox=\"0 0 24 24\"\n",
              "       width=\"24px\">\n",
              "    <path d=\"M0 0h24v24H0V0z\" fill=\"none\"/>\n",
              "    <path d=\"M18.56 5.44l.94 2.06.94-2.06 2.06-.94-2.06-.94-.94-2.06-.94 2.06-2.06.94zm-11 1L8.5 8.5l.94-2.06 2.06-.94-2.06-.94L8.5 2.5l-.94 2.06-2.06.94zm10 10l.94 2.06.94-2.06 2.06-.94-2.06-.94-.94-2.06-.94 2.06-2.06.94z\"/><path d=\"M17.41 7.96l-1.37-1.37c-.4-.4-.92-.59-1.43-.59-.52 0-1.04.2-1.43.59L10.3 9.45l-7.72 7.72c-.78.78-.78 2.05 0 2.83L4 21.41c.39.39.9.59 1.41.59.51 0 1.02-.2 1.41-.59l7.78-7.78 2.81-2.81c.8-.78.8-2.07 0-2.86zM5.41 20L4 18.59l7.72-7.72 1.47 1.35L5.41 20z\"/>\n",
              "  </svg>\n",
              "      </button>\n",
              "      \n",
              "  <style>\n",
              "    .colab-df-container {\n",
              "      display:flex;\n",
              "      flex-wrap:wrap;\n",
              "      gap: 12px;\n",
              "    }\n",
              "\n",
              "    .colab-df-convert {\n",
              "      background-color: #E8F0FE;\n",
              "      border: none;\n",
              "      border-radius: 50%;\n",
              "      cursor: pointer;\n",
              "      display: none;\n",
              "      fill: #1967D2;\n",
              "      height: 32px;\n",
              "      padding: 0 0 0 0;\n",
              "      width: 32px;\n",
              "    }\n",
              "\n",
              "    .colab-df-convert:hover {\n",
              "      background-color: #E2EBFA;\n",
              "      box-shadow: 0px 1px 2px rgba(60, 64, 67, 0.3), 0px 1px 3px 1px rgba(60, 64, 67, 0.15);\n",
              "      fill: #174EA6;\n",
              "    }\n",
              "\n",
              "    [theme=dark] .colab-df-convert {\n",
              "      background-color: #3B4455;\n",
              "      fill: #D2E3FC;\n",
              "    }\n",
              "\n",
              "    [theme=dark] .colab-df-convert:hover {\n",
              "      background-color: #434B5C;\n",
              "      box-shadow: 0px 1px 3px 1px rgba(0, 0, 0, 0.15);\n",
              "      filter: drop-shadow(0px 1px 2px rgba(0, 0, 0, 0.3));\n",
              "      fill: #FFFFFF;\n",
              "    }\n",
              "  </style>\n",
              "\n",
              "      <script>\n",
              "        const buttonEl =\n",
              "          document.querySelector('#df-f07902fe-4e30-4384-a187-8307cdeaa760 button.colab-df-convert');\n",
              "        buttonEl.style.display =\n",
              "          google.colab.kernel.accessAllowed ? 'block' : 'none';\n",
              "\n",
              "        async function convertToInteractive(key) {\n",
              "          const element = document.querySelector('#df-f07902fe-4e30-4384-a187-8307cdeaa760');\n",
              "          const dataTable =\n",
              "            await google.colab.kernel.invokeFunction('convertToInteractive',\n",
              "                                                     [key], {});\n",
              "          if (!dataTable) return;\n",
              "\n",
              "          const docLinkHtml = 'Like what you see? Visit the ' +\n",
              "            '<a target=\"_blank\" href=https://colab.research.google.com/notebooks/data_table.ipynb>data table notebook</a>'\n",
              "            + ' to learn more about interactive tables.';\n",
              "          element.innerHTML = '';\n",
              "          dataTable['output_type'] = 'display_data';\n",
              "          await google.colab.output.renderOutput(dataTable, element);\n",
              "          const docLink = document.createElement('div');\n",
              "          docLink.innerHTML = docLinkHtml;\n",
              "          element.appendChild(docLink);\n",
              "        }\n",
              "      </script>\n",
              "    </div>\n",
              "  </div>\n",
              "  "
            ]
          },
          "metadata": {},
          "execution_count": 28
        }
      ]
    },
    {
      "cell_type": "code",
      "source": [
        "activity_new_downsampled.hist(figsize=(20,16), color = 'blue');"
      ],
      "metadata": {
        "colab": {
          "base_uri": "https://localhost:8080/",
          "height": 767
        },
        "id": "bPp0I7UJQsiF",
        "outputId": "43252bf9-1a31-4b0b-fca7-822b0991c2f4"
      },
      "execution_count": null,
      "outputs": [
        {
          "output_type": "display_data",
          "data": {
            "text/plain": [
              "<Figure size 1440x1152 with 2 Axes>"
            ],
            "image/png": "[encoded data removed]"
          },
          "metadata": {
            "needs_background": "light"
          }
        }
      ]
    },
    {
      "cell_type": "code",
      "source": [
        "activity_new_downsampled['activity_type'].value_counts()"
      ],
      "metadata": {
        "colab": {
          "base_uri": "https://localhost:8080/"
        },
        "id": "Hs7XffYFQ0FZ",
        "outputId": "6435ff44-c4e0-4bc3-8775-40e5f9354e04"
      },
      "execution_count": null,
      "outputs": [
        {
          "output_type": "execute_result",
          "data": {
            "text/plain": [
              "10    6349\n",
              "11    5807\n",
              "12    3229\n",
              "22    2396\n",
              "19    1929\n",
              "8     1809\n",
              "7     1681\n",
              "0     1577\n",
              "14    1413\n",
              "23    1334\n",
              "6     1331\n",
              "20     940\n",
              "21     794\n",
              "1      695\n",
              "18     654\n",
              "5      630\n",
              "13     524\n",
              "17     293\n",
              "2      157\n",
              "3       61\n",
              "16      43\n",
              "9       36\n",
              "15      10\n",
              "4        2\n",
              "Name: activity_type, dtype: int64"
            ]
          },
          "metadata": {},
          "execution_count": 30
        }
      ]
    },
    {
      "cell_type": "code",
      "source": [
        "# Separating the dataset as response variable and feature variables\n",
        "\n",
        "X = activity_new_downsampled.drop('label', axis = 1)\n",
        "y = activity_new_downsampled['label']"
      ],
      "metadata": {
        "id": "5HS2_gMsQ71B"
      },
      "execution_count": null,
      "outputs": []
    },
    {
      "cell_type": "code",
      "source": [
        "#Train and Test splitting of data\n",
        "\n",
        "from sklearn.model_selection import train_test_split\n",
        "\n",
        "X_train, X_test, y_train, y_test = train_test_split(X, y, test_size = 0.3, stratify=y, random_state = 42)"
      ],
      "metadata": {
        "id": "blcylFwyRNjQ"
      },
      "execution_count": null,
      "outputs": []
    },
    {
      "cell_type": "code",
      "source": [
        "print(\"1111111111111\",X_train)\n",
        "print(\"2222222222222\",X_test)\n",
        "print(\"3333333333333\",y_train)\n",
        "print(\"444444444444\",y_test)"
      ],
      "metadata": {
        "colab": {
          "base_uri": "https://localhost:8080/"
        },
        "id": "2HDNdYYyRRiP",
        "outputId": "9f79b24b-7f4e-474d-dc61-be27a285d0ba"
      },
      "execution_count": null,
      "outputs": [
        {
          "output_type": "stream",
          "name": "stdout",
          "text": [
            "1111111111111         activity_type\n",
            "116664             10\n",
            "154016              6\n",
            "878517              7\n",
            "303747             11\n",
            "851614             10\n",
            "...               ...\n",
            "313268             11\n",
            "720791             11\n",
            "124611             18\n",
            "572384              8\n",
            "153041              6\n",
            "\n",
            "[23585 rows x 1 columns]\n",
            "2222222222222         activity_type\n",
            "235380             19\n",
            "851486             10\n",
            "200858             19\n",
            "56011              18\n",
            "20337               5\n",
            "...               ...\n",
            "53949              16\n",
            "170212              6\n",
            "139120              6\n",
            "566401              8\n",
            "656220              0\n",
            "\n",
            "[10109 rows x 1 columns]\n",
            "3333333333333 116664    0.0\n",
            "154016    0.0\n",
            "878517    1.0\n",
            "303747    1.0\n",
            "851614    1.0\n",
            "         ... \n",
            "313268    1.0\n",
            "720791    0.0\n",
            "124611    0.0\n",
            "572384    0.0\n",
            "153041    0.0\n",
            "Name: label, Length: 23585, dtype: float64\n",
            "444444444444 235380    0.0\n",
            "851486    1.0\n",
            "200858    0.0\n",
            "56011     0.0\n",
            "20337     0.0\n",
            "         ... \n",
            "53949     1.0\n",
            "170212    0.0\n",
            "139120    0.0\n",
            "566401    0.0\n",
            "656220    0.0\n",
            "Name: label, Length: 10109, dtype: float64\n"
          ]
        }
      ]
    },
    {
      "cell_type": "code",
      "source": [
        "from sklearn.preprocessing import StandardScaler\n",
        "\n",
        "# Applying Standard scaling\n",
        "\n",
        "sc = StandardScaler()\n",
        "X_train = sc.fit_transform(X_train)\n",
        "X_test = sc.transform(X_test)"
      ],
      "metadata": {
        "id": "MxUzwoCkRXPh"
      },
      "execution_count": null,
      "outputs": []
    },
    {
      "cell_type": "code",
      "source": [
        "print(X_train)\n",
        "print(X_test)"
      ],
      "metadata": {
        "colab": {
          "base_uri": "https://localhost:8080/"
        },
        "id": "ZxxdX5OjRj2Y",
        "outputId": "c94de70b-ed2d-48d4-8d4e-123c44775b6f"
      },
      "execution_count": null,
      "outputs": [
        {
          "output_type": "stream",
          "name": "stdout",
          "text": [
            "[[-0.33838036]\n",
            " [-1.01660769]\n",
            " [-0.84705086]\n",
            " ...\n",
            " [ 1.01807428]\n",
            " [-0.67749403]\n",
            " [-1.01660769]]\n",
            "[[ 1.18763111]\n",
            " [-0.33838036]\n",
            " [ 1.18763111]\n",
            " ...\n",
            " [-1.01660769]\n",
            " [-0.67749403]\n",
            " [-2.03394867]]\n"
          ]
        }
      ]
    },
    {
      "cell_type": "code",
      "source": [
        "from sklearn.ensemble import RandomForestClassifier\n",
        "from sklearn.linear_model import LogisticRegression\n",
        "from sklearn.svm import SVC\n",
        "from sklearn.ensemble import GradientBoostingClassifier\n",
        "from sklearn.neural_network import MLPClassifier\n",
        "from sklearn.metrics import confusion_matrix, classification_report, accuracy_score, auc"
      ],
      "metadata": {
        "id": "vSzQC2aaRufw"
      },
      "execution_count": null,
      "outputs": []
    },
    {
      "cell_type": "markdown",
      "source": [
        "### Random Forest"
      ],
      "metadata": {
        "id": "aTsWCU2oVZA9"
      }
    },
    {
      "cell_type": "code",
      "source": [
        "rfc = RandomForestClassifier(n_estimators=300)\n",
        "\n",
        "rfc.fit(X_train, y_train)\n",
        "pred_rfc = rfc.predict(X_test)"
      ],
      "metadata": {
        "id": "FzOkl20XRxS3"
      },
      "execution_count": null,
      "outputs": []
    },
    {
      "cell_type": "code",
      "source": [
        "# Checking Model Performance\n",
        "print(\"Classification Matrix:\")\n",
        "print(classification_report(y_test, pred_rfc))\n",
        "print(\"Cofusion Matrix:\")\n",
        "cm = confusion_matrix(y_test, pred_rfc)\n",
        "print(cm)\n",
        "print(\"accuracy 0 and 1\",cm.diagonal()/cm.sum(axis=1))"
      ],
      "metadata": {
        "colab": {
          "base_uri": "https://localhost:8080/"
        },
        "id": "3UrdZ2JpR6ex",
        "outputId": "a6b69d54-9f50-41d2-b042-dcc82136fb09"
      },
      "execution_count": null,
      "outputs": [
        {
          "output_type": "stream",
          "name": "stdout",
          "text": [
            "Classification Matrix:\n",
            "              precision    recall  f1-score   support\n",
            "\n",
            "         0.0       0.73      0.68      0.70      6000\n",
            "         1.0       0.58      0.64      0.60      4109\n",
            "\n",
            "    accuracy                           0.66     10109\n",
            "   macro avg       0.65      0.66      0.65     10109\n",
            "weighted avg       0.67      0.66      0.66     10109\n",
            "\n",
            "Cofusion Matrix:\n",
            "[[4073 1927]\n",
            " [1492 2617]]\n",
            "accuracy 0 and 1 [0.67883333 0.63689462]\n"
          ]
        }
      ]
    },
    {
      "cell_type": "markdown",
      "source": [
        "### Logistic Regression"
      ],
      "metadata": {
        "id": "ZauOdIvxUx5z"
      }
    },
    {
      "cell_type": "code",
      "source": [
        "lReg = LogisticRegression(penalty='l2',tol=0.001,random_state=0)\n",
        "lReg.fit(X_train, y_train)\n",
        "pred_lReg = lReg.predict(X_test)"
      ],
      "metadata": {
        "id": "5q3MHwUxSJ9n"
      },
      "execution_count": null,
      "outputs": []
    },
    {
      "cell_type": "code",
      "source": [
        "import numpy as np\n",
        "\n",
        "print(\"Classification Matrix:\")\n",
        "print(classification_report(y_test, pred_lReg))\n",
        "print(\"Cofusion Matrix:\")\n",
        "y_test = np.array(y_test)\n",
        "cm_lReg = confusion_matrix(y_test.astype(int), pred_lReg.astype(int))\n",
        "print(cm_lReg)\n",
        "print(\"111111\",type(y_test),\"22222222222\", type(pred_lReg))\n",
        "print(\"accuracy 0 and 1\",cm_lReg.diagonal()/cm_lReg.sum(axis=1))"
      ],
      "metadata": {
        "colab": {
          "base_uri": "https://localhost:8080/"
        },
        "id": "kKkGwp_hU11N",
        "outputId": "5319aba8-c940-4c2b-dea2-28039ec31822"
      },
      "execution_count": null,
      "outputs": [
        {
          "output_type": "stream",
          "name": "stdout",
          "text": [
            "Classification Matrix:\n",
            "              precision    recall  f1-score   support\n",
            "\n",
            "         0.0       0.59      1.00      0.74      6000\n",
            "         1.0       0.00      0.00      0.00      4109\n",
            "\n",
            "    accuracy                           0.59     10109\n",
            "   macro avg       0.30      0.50      0.37     10109\n",
            "weighted avg       0.35      0.59      0.44     10109\n",
            "\n",
            "Cofusion Matrix:\n",
            "[[6000    0]\n",
            " [4109    0]]\n",
            "111111 <class 'numpy.ndarray'> 22222222222 <class 'numpy.ndarray'>\n",
            "accuracy 0 and 1 [1. 0.]\n"
          ]
        },
        {
          "output_type": "stream",
          "name": "stderr",
          "text": [
            "/usr/local/lib/python3.7/dist-packages/sklearn/metrics/_classification.py:1318: UndefinedMetricWarning: Precision and F-score are ill-defined and being set to 0.0 in labels with no predicted samples. Use `zero_division` parameter to control this behavior.\n",
            "  _warn_prf(average, modifier, msg_start, len(result))\n",
            "/usr/local/lib/python3.7/dist-packages/sklearn/metrics/_classification.py:1318: UndefinedMetricWarning: Precision and F-score are ill-defined and being set to 0.0 in labels with no predicted samples. Use `zero_division` parameter to control this behavior.\n",
            "  _warn_prf(average, modifier, msg_start, len(result))\n",
            "/usr/local/lib/python3.7/dist-packages/sklearn/metrics/_classification.py:1318: UndefinedMetricWarning: Precision and F-score are ill-defined and being set to 0.0 in labels with no predicted samples. Use `zero_division` parameter to control this behavior.\n",
            "  _warn_prf(average, modifier, msg_start, len(result))\n"
          ]
        }
      ]
    },
    {
      "cell_type": "code",
      "source": [
        "from collections import Counter"
      ],
      "metadata": {
        "id": "N1S47QywZcqS"
      },
      "execution_count": null,
      "outputs": []
    },
    {
      "cell_type": "code",
      "source": [
        "Counter(pred_lReg)"
      ],
      "metadata": {
        "colab": {
          "base_uri": "https://localhost:8080/"
        },
        "id": "a9MbUB5RZchx",
        "outputId": "5f701bad-e9a8-4b4f-8802-7f3c0d435989"
      },
      "execution_count": null,
      "outputs": [
        {
          "output_type": "execute_result",
          "data": {
            "text/plain": [
              "Counter({0.0: 10109})"
            ]
          },
          "metadata": {},
          "execution_count": 65
        }
      ]
    },
    {
      "cell_type": "code",
      "source": [
        "Counter(y_train)"
      ],
      "metadata": {
        "colab": {
          "base_uri": "https://localhost:8080/"
        },
        "id": "xzF00Zj3Zqyc",
        "outputId": "8a998933-8942-4162-e775-21fb96f40354"
      },
      "execution_count": null,
      "outputs": [
        {
          "output_type": "execute_result",
          "data": {
            "text/plain": [
              "Counter({0.0: 14000, 1.0: 9585})"
            ]
          },
          "metadata": {},
          "execution_count": 67
        }
      ]
    },
    {
      "cell_type": "markdown",
      "source": [
        "### SVM classifier"
      ],
      "metadata": {
        "id": "y1c5F3YQVdra"
      }
    },
    {
      "cell_type": "code",
      "source": [
        "sv = SVC(tol = 0.001)\n",
        "sv.fit(X_train, y_train)\n",
        "pred_sv = sv.predict(X_test)"
      ],
      "metadata": {
        "id": "K_SnpgOlU7Ud"
      },
      "execution_count": 68,
      "outputs": []
    },
    {
      "cell_type": "code",
      "source": [
        "print(\"Classification Matrix:\")\n",
        "print(classification_report(y_test, pred_sv))\n",
        "print(\"Cofusion Matrix:\")\n",
        "cm = confusion_matrix(y_test, pred_sv)\n",
        "print(cm)\n",
        "print(\"accuracy 0,1\",cm.diagonal()/cm.sum(axis=1))"
      ],
      "metadata": {
        "colab": {
          "base_uri": "https://localhost:8080/"
        },
        "id": "zggglR9jVoO7",
        "outputId": "c79348ee-cab1-4473-9582-f56209257cc3"
      },
      "execution_count": 69,
      "outputs": [
        {
          "output_type": "stream",
          "name": "stdout",
          "text": [
            "Classification Matrix:\n",
            "              precision    recall  f1-score   support\n",
            "\n",
            "         0.0       0.72      0.65      0.68      6000\n",
            "         1.0       0.55      0.63      0.59      4109\n",
            "\n",
            "    accuracy                           0.64     10109\n",
            "   macro avg       0.64      0.64      0.64     10109\n",
            "weighted avg       0.65      0.64      0.65     10109\n",
            "\n",
            "Cofusion Matrix:\n",
            "[[3908 2092]\n",
            " [1523 2586]]\n",
            "accuracy 0,1 [0.65133333 0.62935021]\n"
          ]
        }
      ]
    },
    {
      "cell_type": "markdown",
      "source": [
        "### Gradient Boost"
      ],
      "metadata": {
        "id": "UX6WI8DnVsgU"
      }
    },
    {
      "cell_type": "code",
      "source": [
        "gboost = GradientBoostingClassifier(n_estimators=100, learning_rate=0.1, max_depth=9, random_state=0)\n",
        "gboost.fit(X_train, y_train)\n",
        "pred_gboost = gboost.predict(X_test)"
      ],
      "metadata": {
        "id": "EseBuKL9Vowd"
      },
      "execution_count": null,
      "outputs": []
    },
    {
      "cell_type": "code",
      "source": [
        "print(\"Classification Matrix:\")\n",
        "print(classification_report(y_test, pred_gboost))\n",
        "print(\"Cofusion Matrix:\")\n",
        "cm = confusion_matrix(y_test, pred_gboost)\n",
        "print(cm)\n",
        "print(\"accuracy 0,1\",cm.diagonal()/cm.sum(axis=1))"
      ],
      "metadata": {
        "colab": {
          "base_uri": "https://localhost:8080/"
        },
        "id": "LhDfkvuiVwUS",
        "outputId": "a91672df-f5bd-45cb-9975-69881dcdd380"
      },
      "execution_count": null,
      "outputs": [
        {
          "output_type": "stream",
          "name": "stdout",
          "text": [
            "Classification Matrix:\n",
            "              precision    recall  f1-score   support\n",
            "\n",
            "         0.0       0.73      0.68      0.70      6000\n",
            "         1.0       0.58      0.64      0.60      4109\n",
            "\n",
            "    accuracy                           0.66     10109\n",
            "   macro avg       0.65      0.66      0.65     10109\n",
            "weighted avg       0.67      0.66      0.66     10109\n",
            "\n",
            "Cofusion Matrix:\n",
            "[[4073 1927]\n",
            " [1492 2617]]\n",
            "accuracy 0,1 [0.67883333 0.63689462]\n"
          ]
        }
      ]
    },
    {
      "cell_type": "markdown",
      "source": [
        "### Neural Network"
      ],
      "metadata": {
        "id": "VQaKjhLRWCVq"
      }
    },
    {
      "cell_type": "code",
      "source": [
        "mlpc = MLPClassifier(hidden_layer_sizes=(25,25,25), max_iter=200)\n",
        "mlpc.fit(X_train, y_train)\n",
        "pred_mlpc = mlpc.predict(X_test)"
      ],
      "metadata": {
        "id": "Zn6suCGyV4Os"
      },
      "execution_count": null,
      "outputs": []
    },
    {
      "cell_type": "code",
      "source": [
        "print(\"Classification Matrix:\")\n",
        "print(classification_report(y_test, pred_mlpc))\n",
        "print(\"Cofusion Matrix:\")\n",
        "cm = confusion_matrix(y_test, pred_mlpc)\n",
        "print(cm)\n",
        "print(\"accuracy 0,1\",cm.diagonal()/cm.sum(axis=1))"
      ],
      "metadata": {
        "colab": {
          "base_uri": "https://localhost:8080/"
        },
        "id": "qH3Xf17zWHey",
        "outputId": "85d63600-0001-461b-d805-3776743551d4"
      },
      "execution_count": null,
      "outputs": [
        {
          "output_type": "stream",
          "name": "stdout",
          "text": [
            "Classification Matrix:\n",
            "              precision    recall  f1-score   support\n",
            "\n",
            "         0.0       0.71      0.71      0.71      6000\n",
            "         1.0       0.58      0.58      0.58      4109\n",
            "\n",
            "    accuracy                           0.66     10109\n",
            "   macro avg       0.65      0.65      0.65     10109\n",
            "weighted avg       0.66      0.66      0.66     10109\n",
            "\n",
            "Cofusion Matrix:\n",
            "[[4278 1722]\n",
            " [1717 2392]]\n",
            "accuracy 0,1 [0.713      0.58213677]\n"
          ]
        }
      ]
    },
    {
      "cell_type": "markdown",
      "source": [
        "### XG Boost"
      ],
      "metadata": {
        "id": "4s781HU8osHw"
      }
    },
    {
      "cell_type": "code",
      "source": [
        "from xgboost import XGBClassifier"
      ],
      "metadata": {
        "id": "SupWnuMpWPT8"
      },
      "execution_count": 71,
      "outputs": []
    },
    {
      "cell_type": "code",
      "source": [
        "xgb_classifier = XGBClassifier(base_score=0.5,eval_metric='mlogloss',learning_rate=0.003,max_depth=6)\n",
        "xgb_classifier.fit(X_train, y_train)\n",
        "pred_xgb = xgb_classifier.predict(X_test)"
      ],
      "metadata": {
        "id": "N1Jk51JNpstA"
      },
      "execution_count": 76,
      "outputs": []
    },
    {
      "cell_type": "code",
      "source": [
        "print(\"Classification Matrix:\")\n",
        "print(classification_report(y_test, pred_xgb))\n",
        "print(\"Cofusion Matrix:\")\n",
        "cm = confusion_matrix(y_test, pred_xgb)\n",
        "print(cm)\n",
        "print(\"accuracy 0,1\",cm.diagonal()/cm.sum(axis=1))"
      ],
      "metadata": {
        "colab": {
          "base_uri": "https://localhost:8080/"
        },
        "id": "_8A8e5hcuSLO",
        "outputId": "38968477-3dd7-4668-e9fb-ace9abe364e1"
      },
      "execution_count": 77,
      "outputs": [
        {
          "output_type": "stream",
          "name": "stdout",
          "text": [
            "Classification Matrix:\n",
            "              precision    recall  f1-score   support\n",
            "\n",
            "         0.0       0.73      0.68      0.70      6000\n",
            "         1.0       0.58      0.64      0.60      4109\n",
            "\n",
            "    accuracy                           0.66     10109\n",
            "   macro avg       0.65      0.66      0.65     10109\n",
            "weighted avg       0.67      0.66      0.66     10109\n",
            "\n",
            "Cofusion Matrix:\n",
            "[[4073 1927]\n",
            " [1492 2617]]\n",
            "accuracy 0,1 [0.67883333 0.63689462]\n"
          ]
        }
      ]
    },
    {
      "cell_type": "code",
      "source": [
        ""
      ],
      "metadata": {
        "id": "UfSY3IFduYQB"
      },
      "execution_count": null,
      "outputs": []
    }
  ]
}